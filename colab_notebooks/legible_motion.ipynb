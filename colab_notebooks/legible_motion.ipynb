{
  "nbformat": 4,
  "nbformat_minor": 0,
  "metadata": {
    "colab": {
      "name": "legible_motion.ipynb",
      "provenance": [],
      "collapsed_sections": []
    },
    "kernelspec": {
      "name": "python3",
      "display_name": "Python 3"
    },
    "language_info": {
      "name": "python"
    }
  },
  "cells": [
    {
      "cell_type": "code",
      "execution_count": 1,
      "metadata": {
        "id": "hROLosJ1zVky"
      },
      "outputs": [],
      "source": [
        "import numpy as np\n",
        "import matplotlib.pyplot as plt"
      ]
    },
    {
      "cell_type": "code",
      "source": [
        "# Define the discrete action space\n",
        "def define_action_space(n_actions):\n",
        "  theta = np.linspace(0, 2*np.pi, n_actions)\n",
        "  return np.array([np.cos(theta), np.sin(theta)]).T"
      ],
      "metadata": {
        "id": "bh71uXgw5tN3"
      },
      "execution_count": 55,
      "outputs": []
    },
    {
      "cell_type": "code",
      "source": [
        "# P(goal1 | xi)\n",
        "# How likely the human thinks goal1 is given the robot's trajectory\n",
        "# See the lecture on Shared Autonomy for the derivation of this equation\n",
        "def P_goal1(start_state, curr_state, action, goal1, goal2, beta, prior):\n",
        "  next_state = np.copy(curr_state) + action\n",
        "  next2goal1 = np.linalg.norm(goal1 - next_state)\n",
        "  next2goal2 = np.linalg.norm(goal2 - next_state)\n",
        "  start2next = np.linalg.norm(next_state - start_state)\n",
        "  start2goal1 = np.linalg.norm(goal1 - start_state)\n",
        "  start2goal2 = np.linalg.norm(goal2 - start_state)\n",
        "  p_goal1 = np.exp(-beta * start2next - beta * next2goal1) / np.exp(-beta * start2goal1) * prior[0]\n",
        "  p_goal2 = np.exp(-beta * start2next - beta * next2goal2) / np.exp(-beta * start2goal2) * prior[1]\n",
        "  belief = np.array([p_goal1, p_goal2]) / (p_goal1 + p_goal2)\n",
        "  return belief[0]"
      ],
      "metadata": {
        "id": "O1iyxks90q92"
      },
      "execution_count": 24,
      "outputs": []
    },
    {
      "cell_type": "code",
      "source": [
        "## Part 1. Optimizing only for legible motion\n",
        "\n",
        "# hyperparameters that you tune\n",
        "goal1 = np.array([+0.5, 10])\n",
        "goal2 = np.array([-0.5, 10])\n",
        "start = np.array([0.0, 0.0])\n",
        "action_space = define_action_space(51)\n",
        "beta = 5.0\n",
        "prior = [0.5, 0.5]\n",
        "trajectory_length = 10\n",
        "\n",
        "# initialize the trajectory and state\n",
        "xi = [list(start)]\n",
        "b = [prior[0]]\n",
        "s = np.copy(start)\n",
        "\n",
        "for timestep in range(trajectory_length):\n",
        "\n",
        "  # let's search over all actions to find one that maximizes \n",
        "  # the human's belief in goal 1\n",
        "  belief_star = 0.0\n",
        "  action_star = None\n",
        "  for action in action_space:\n",
        "    belief = P_goal1(start, s, action, goal1, goal2, beta, prior)\n",
        "    # if the proposed action is more legible, we use it!\n",
        "    if belief > belief_star:\n",
        "      action_star = np.copy(action)\n",
        "      belief_star = belief\n",
        "\n",
        "  # update for next timestep\n",
        "  s += action_star\n",
        "  xi.append(list(s))\n",
        "  b.append(belief_star)\n",
        "\n",
        "# plot the trajectory\n",
        "xi = np.array(xi)\n",
        "plt.plot(xi[:,0], xi[:,1], 'o-')\n",
        "plt.plot(goal1[0], goal1[1], 'gs')\n",
        "plt.plot(goal2[0], goal2[1], 'rs')\n",
        "plt.axis('equal')\n",
        "plt.title('Robot Trajectory')\n",
        "plt.show()\n",
        "\n",
        "# plot the human's confidence\n",
        "plt.plot(range(trajectory_length+1), b, 'ko-')\n",
        "plt.title('Human Confidence')\n",
        "plt.show()"
      ],
      "metadata": {
        "colab": {
          "base_uri": "https://localhost:8080/",
          "height": 545
        },
        "id": "us6PRliA4fy6",
        "outputId": "6d567821-61a1-4ae0-a6a4-d04aee86bbdd"
      },
      "execution_count": 70,
      "outputs": [
        {
          "output_type": "display_data",
          "data": {
            "text/plain": [
              "<Figure size 432x288 with 1 Axes>"
            ],
            "image/png": "[encoded data removed]"
          },
          "metadata": {
            "needs_background": "light"
          }
        },
        {
          "output_type": "display_data",
          "data": {
            "text/plain": [
              "<Figure size 432x288 with 1 Axes>"
            ],
            "image/png": "[encoded data removed]"
          },
          "metadata": {
            "needs_background": "light"
          }
        }
      ]
    },
    {
      "cell_type": "code",
      "source": [
        "# Value function\n",
        "# V(s, goal) = distance from state to goal\n",
        "def V(state, goal):\n",
        "  return np.linalg.norm(goal - state)"
      ],
      "metadata": {
        "id": "DSY1hjG05S9W"
      },
      "execution_count": 40,
      "outputs": []
    },
    {
      "cell_type": "code",
      "source": [
        "# Q function\n",
        "# Q(s, a, goal) = C(s, a) + V(s', goal)\n",
        "def Q(state, action, goal):\n",
        "  state1 = state + action\n",
        "  return np.linalg.norm(action) + V(state1, goal)"
      ],
      "metadata": {
        "id": "DMcMIpAS5EHr"
      },
      "execution_count": 41,
      "outputs": []
    },
    {
      "cell_type": "code",
      "source": [
        "## Part 2. Optimizing for legible motion with performance constraints\n",
        "## Note: we are working with costs, not rewards! Our cost is the distance to the goal.\n",
        "\n",
        "# hyperparameters that you tune\n",
        "goal1 = np.array([+0.5, 10])\n",
        "goal2 = np.array([-0.5, 10])\n",
        "start = np.array([0.0, 0.0])\n",
        "action_space = define_action_space(51)\n",
        "beta = 5.0\n",
        "prior = [0.5, 0.5]\n",
        "trajectory_length = 10\n",
        "eta = 0.1\n",
        "\n",
        "# initialize the trajectory and state\n",
        "xi = [list(start)]\n",
        "b = [prior[0]]\n",
        "s = np.copy(start)\n",
        "\n",
        "for timestep in range(trajectory_length):\n",
        "\n",
        "  # start our search with the most efficient action\n",
        "  # this action moves directly towards the goal\n",
        "  action_star = (goal1 - s) / np.linalg.norm(goal1 - s)\n",
        "  if np.linalg.norm(goal1 - s) < 1.0:\n",
        "    action_star = (goal1 - s)\n",
        "  belief_star = P_goal1(start, s, action_star, goal1, goal2, beta, prior)\n",
        "\n",
        "  # let's search over all actions to find one that maximizes \n",
        "  # the human's belief in goal 1\n",
        "  for action in action_space:\n",
        "    belief = P_goal1(start, s, action, goal1, goal2, beta, prior)\n",
        "    loss = Q(s, action, goal1) - V(s, goal1)\n",
        "    # if the proposed action is more legible and efficient, we use it!\n",
        "    if belief > belief_star and loss < eta:\n",
        "      action_star = np.copy(action)\n",
        "      belief_star = belief\n",
        "\n",
        "  # update for next timestep\n",
        "  s += action_star\n",
        "  xi.append(list(s))\n",
        "  b.append(belief_star)\n",
        "\n",
        "# plot the trajectory\n",
        "xi = np.array(xi)\n",
        "plt.plot(xi[:,0], xi[:,1], 'o-')\n",
        "plt.plot(goal1[0], goal1[1], 'gs')\n",
        "plt.plot(goal2[0], goal2[1], 'rs')\n",
        "plt.axis('equal')\n",
        "plt.title('Robot Trajectory')\n",
        "plt.show()\n",
        "\n",
        "# plot the human's confidence\n",
        "plt.plot(range(trajectory_length+1), b, 'ko-')\n",
        "plt.title('Human Confidence')\n",
        "plt.show()"
      ],
      "metadata": {
        "id": "MawfSGjBzZMg",
        "colab": {
          "base_uri": "https://localhost:8080/",
          "height": 545
        },
        "outputId": "a6328f62-1747-42ed-e9ab-c5904889b990"
      },
      "execution_count": 71,
      "outputs": [
        {
          "output_type": "display_data",
          "data": {
            "text/plain": [
              "<Figure size 432x288 with 1 Axes>"
            ],
            "image/png": "[encoded data removed]"
          },
          "metadata": {
            "needs_background": "light"
          }
        },
        {
          "output_type": "display_data",
          "data": {
            "text/plain": [
              "<Figure size 432x288 with 1 Axes>"
            ],
            "image/png": "[encoded data removed]"
          },
          "metadata": {
            "needs_background": "light"
          }
        }
      ]
    },
    {
      "cell_type": "code",
      "source": [
        ""
      ],
      "metadata": {
        "id": "ftXM7FWcEwSb"
      },
      "execution_count": null,
      "outputs": []
    }
  ]
}