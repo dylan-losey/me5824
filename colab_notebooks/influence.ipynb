{
  "nbformat": 4,
  "nbformat_minor": 0,
  "metadata": {
    "colab": {
      "name": "influence.ipynb",
      "provenance": [],
      "collapsed_sections": []
    },
    "kernelspec": {
      "name": "python3",
      "display_name": "Python 3"
    },
    "language_info": {
      "name": "python"
    }
  },
  "cells": [
    {
      "cell_type": "code",
      "execution_count": 20,
      "metadata": {
        "id": "QlVec5J4a0EE"
      },
      "outputs": [],
      "source": [
        "### Code based on \"Planning for Autonomous Cars that Leverage Effects on Human Actions\" ###\n",
        "\n",
        "import matplotlib.pyplot as plt\n",
        "import numpy as np\n",
        "from scipy.optimize import minimize, LinearConstraint, NonlinearConstraint"
      ]
    },
    {
      "cell_type": "code",
      "source": [
        "### Create a class to perform the nested optimization ###\n",
        "\n",
        "class Influence(object):\n",
        "\n",
        "    def __init__(self):\n",
        "\n",
        "        # initialize autonomous car\n",
        "        self.n_robot_actions = 5\n",
        "        self.robot_actions_0 = np.array([0.0]*self.n_robot_actions)\n",
        "        self.xi_r = np.zeros((6,2))\n",
        "\n",
        "        # initialize human car\n",
        "        self.n_human_actions = 5\n",
        "        self.human_actions_0 = np.array([0.0]*self.n_human_actions)\n",
        "        self.xi_h = np.zeros((6,2))\n",
        "\n",
        "        # create action constraint\n",
        "        self.nonlincon = NonlinearConstraint(self.nl_function, -1.0, 1.0)\n",
        "\n",
        "    # each action cannot move more than 1 unit\n",
        "    def nl_function(self, actions):\n",
        "        return actions\n",
        "\n",
        "    # autonomous vehicle dynamics\n",
        "    # the autonomous car moves up and down\n",
        "    def robot_dynamics(self, robot_actions):\n",
        "        car_position = np.array([0., 0.])\n",
        "        self.xi_r[0, :] = np.copy(car_position)\n",
        "        for idx, a_r in enumerate(robot_actions):\n",
        "          car_position[1] += a_r\n",
        "          self.xi_r[idx+1, :] = np.copy(car_position)\n",
        "          \n",
        "    # human vehicle dynamics\n",
        "    # the human car moves left and right\n",
        "    def human_dynamics(self, human_actions):\n",
        "        car_position = np.array([-2., 2.])\n",
        "        self.xi_h[0, :] = np.copy(car_position)\n",
        "        for idx, a_h in enumerate(human_actions):\n",
        "          car_position[0] += a_h\n",
        "          self.xi_h[idx+1, :] = np.copy(car_position)\n",
        "\n",
        "    # human cost function\n",
        "    def human_cost(self, human_actions):\n",
        "        self.human_dynamics(human_actions)\n",
        "        cost = 0.0\n",
        "        for idx in range(len(self.xi_h)):\n",
        "          robot_position = self.xi_r[idx,:]\n",
        "          human_position = self.xi_h[idx,:]\n",
        "          ### the human wants to avoid collision ###\n",
        "          cost += np.exp(-np.linalg.norm(human_position - robot_position)) * 100\n",
        "          ### the human wants to cross the street ###\n",
        "          cost += 5 - human_position[0]\n",
        "        return cost\n",
        "\n",
        "    # robot cost function\n",
        "    def robot_cost(self, robot_actions):\n",
        "        self.robot_dynamics(robot_actions)\n",
        "        res = minimize(self.human_cost, self.human_actions_0, method='SLSQP', constraints=self.nonlincon, options={'eps': 1e-3, 'maxiter': 1000})\n",
        "        cost = 0.0\n",
        "        for idx in range(len(self.xi_r)):\n",
        "          robot_position = self.xi_r[idx,:]\n",
        "          human_position = self.xi_h[idx,:]\n",
        "          ### the autonomous car wants to let the human go first ###\n",
        "          cost += 5 - human_position[0]\n",
        "        ### the autonomous car wants to minimize its effort ###\n",
        "        cost += np.sum(np.abs(robot_actions)) * 1\n",
        "        return cost\n",
        "\n",
        "    # run the optimizer\n",
        "    def optimize(self):\n",
        "        res = minimize(self.robot_cost, self.robot_actions_0, method='SLSQP', constraints=self.nonlincon, options={'eps': 1e-3, 'maxiter': 1000})\n",
        "        return res.x, res"
      ],
      "metadata": {
        "id": "h4q1QZuYbv6N"
      },
      "execution_count": 33,
      "outputs": []
    },
    {
      "cell_type": "code",
      "source": [
        "### Run and plot the results ###\n",
        "### if you play with the weights for each reward, you will see different behaviors ###\n",
        "\n",
        "game = Influence()\n",
        "robot_actions, res = game.optimize()\n",
        "xi_r = game.xi_r\n",
        "xi_h = game.xi_h\n",
        "plt.plot(xi_r[:,0], xi_r[:,1], 'rs-') # autonomous car is in red\n",
        "plt.plot(xi_h[:,0], xi_h[:,1], 'bo-') # human car is in blue\n",
        "plt.axis(\"equal\")\n",
        "plt.show()"
      ],
      "metadata": {
        "colab": {
          "base_uri": "https://localhost:8080/",
          "height": 265
        },
        "id": "62o6oSnydEBt",
        "outputId": "09a448e9-4385-4b30-d460-9797bcb42be2"
      },
      "execution_count": 34,
      "outputs": [
        {
          "output_type": "display_data",
          "data": {
            "text/plain": [
              "<Figure size 432x288 with 1 Axes>"
            ],
            "image/png": "[encoded data removed]"
          },
          "metadata": {
            "needs_background": "light"
          }
        }
      ]
    }
  ]
}